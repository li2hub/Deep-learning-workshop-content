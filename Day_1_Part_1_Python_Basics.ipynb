{
  "nbformat": 4,
  "nbformat_minor": 0,
  "metadata": {
    "colab": {
      "name": "Day 1 - Part 1 - Python Basics.ipynb",
      "version": "0.3.2",
      "provenance": []
    },
    "kernelspec": {
      "display_name": "Python 3",
      "language": "python",
      "name": "python3"
    }
  },
  "cells": [
    {
      "metadata": {
        "id": "PZ4gKI5HF84T",
        "colab_type": "text"
      },
      "cell_type": "markdown",
      "source": [
        "![title](logo.png)"
      ]
    },
    {
      "metadata": {
        "id": "wzkEZFBUF84W",
        "colab_type": "text"
      },
      "cell_type": "markdown",
      "source": [
        "# Building Learning Machines"
      ]
    },
    {
      "metadata": {
        "id": "eaD1ay_HF84X",
        "colab_type": "text"
      },
      "cell_type": "markdown",
      "source": [
        "# Hands On Session - Day 1 - Part 1 - Python Basics"
      ]
    },
    {
      "metadata": {
        "id": "XW2T0fxmF84Z",
        "colab_type": "text"
      },
      "cell_type": "markdown",
      "source": [
        "### Printing a String or number"
      ]
    },
    {
      "metadata": {
        "id": "xicgNgHjF84b",
        "colab_type": "text"
      },
      "cell_type": "markdown",
      "source": [
        " "
      ]
    },
    {
      "metadata": {
        "id": "N-apuMjFF84c",
        "colab_type": "code",
        "colab": {}
      },
      "cell_type": "code",
      "source": [
        "print('Single Quotes')"
      ],
      "execution_count": 0,
      "outputs": []
    },
    {
      "metadata": {
        "id": "UxjC2xh9F84j",
        "colab_type": "code",
        "colab": {}
      },
      "cell_type": "code",
      "source": [
        "print(\"Double Quotes\")"
      ],
      "execution_count": 0,
      "outputs": []
    },
    {
      "metadata": {
        "id": "wwojQWWyF84p",
        "colab_type": "code",
        "colab": {}
      },
      "cell_type": "code",
      "source": [
        "print('You can do this',5)"
      ],
      "execution_count": 0,
      "outputs": []
    },
    {
      "metadata": {
        "id": "gLqIXE5JF84t",
        "colab_type": "code",
        "colab": {}
      },
      "cell_type": "code",
      "source": [
        "print('cannot do this:'+5)"
      ],
      "execution_count": 0,
      "outputs": []
    },
    {
      "metadata": {
        "id": "a3o3LVWyF84y",
        "colab_type": "code",
        "colab": {}
      },
      "cell_type": "code",
      "source": [
        "print('Can't do this')"
      ],
      "execution_count": 0,
      "outputs": []
    },
    {
      "metadata": {
        "id": "Wlw5dqFPF844",
        "colab_type": "code",
        "colab": {}
      },
      "cell_type": "code",
      "source": [
        "print('you\\'ll have success here')"
      ],
      "execution_count": 0,
      "outputs": []
    },
    {
      "metadata": {
        "id": "_RgNcc3PF849",
        "colab_type": "code",
        "colab": {}
      },
      "cell_type": "code",
      "source": [
        "print(\"you'll have success here too\")"
      ],
      "execution_count": 0,
      "outputs": []
    },
    {
      "metadata": {
        "id": "uu_4CaOuF85G",
        "colab_type": "text"
      },
      "cell_type": "markdown",
      "source": [
        "### Taking Input from User"
      ]
    },
    {
      "metadata": {
        "id": "Wu0RIxRLF85I",
        "colab_type": "text"
      },
      "cell_type": "markdown",
      "source": [
        " "
      ]
    },
    {
      "metadata": {
        "id": "ctxwLu2IF85R",
        "colab_type": "code",
        "colab": {}
      },
      "cell_type": "code",
      "source": [
        "input(\"Type your input here: \")"
      ],
      "execution_count": 0,
      "outputs": []
    },
    {
      "metadata": {
        "id": "CFK1URuQF85Y",
        "colab_type": "code",
        "colab": {}
      },
      "cell_type": "code",
      "source": [
        "input('This will work too: ')"
      ],
      "execution_count": 0,
      "outputs": []
    },
    {
      "metadata": {
        "id": "RU01-aN_F85b",
        "colab_type": "code",
        "colab": {}
      },
      "cell_type": "code",
      "source": [
        "print(input(\"what would you like to print? \"))"
      ],
      "execution_count": 0,
      "outputs": []
    },
    {
      "metadata": {
        "id": "SK8RCowqF85g",
        "colab_type": "text"
      },
      "cell_type": "markdown",
      "source": [
        " "
      ]
    },
    {
      "metadata": {
        "id": "k1tgpmkkF85h",
        "colab_type": "text"
      },
      "cell_type": "markdown",
      "source": [
        "### Variables"
      ]
    },
    {
      "metadata": {
        "id": "niJYeGd3F85i",
        "colab_type": "code",
        "colab": {}
      },
      "cell_type": "code",
      "source": [
        "a=2 #valid\n",
        "a"
      ],
      "execution_count": 0,
      "outputs": []
    },
    {
      "metadata": {
        "id": "3hfQHQzXF85n",
        "colab_type": "code",
        "colab": {}
      },
      "cell_type": "code",
      "source": [
        "b=\"hello\" #valid\n",
        "print(b)"
      ],
      "execution_count": 0,
      "outputs": []
    },
    {
      "metadata": {
        "id": "uGMuJmOVF85r",
        "colab_type": "code",
        "colab": {}
      },
      "cell_type": "code",
      "source": [
        "c= hey! #not valid"
      ],
      "execution_count": 0,
      "outputs": []
    },
    {
      "metadata": {
        "id": "9TZylXZXF85v",
        "colab_type": "code",
        "colab": {}
      },
      "cell_type": "code",
      "source": [
        "a+3 #valid since \"a\" is defined earlier"
      ],
      "execution_count": 0,
      "outputs": []
    },
    {
      "metadata": {
        "id": "h25XwyfwF851",
        "colab_type": "code",
        "colab": {}
      },
      "cell_type": "code",
      "source": [
        "3 #valid"
      ],
      "execution_count": 0,
      "outputs": []
    },
    {
      "metadata": {
        "id": "_yWkGMQYF859",
        "colab_type": "code",
        "colab": {}
      },
      "cell_type": "code",
      "source": [
        "b+2 #not valid since b is a strings"
      ],
      "execution_count": 0,
      "outputs": []
    },
    {
      "metadata": {
        "id": "eQPxWR5IF86D",
        "colab_type": "code",
        "colab": {}
      },
      "cell_type": "code",
      "source": [
        "b+\"2\" #valid since adding two strings"
      ],
      "execution_count": 0,
      "outputs": []
    },
    {
      "metadata": {
        "id": "c5BBHxH_F86L",
        "colab_type": "code",
        "colab": {}
      },
      "cell_type": "code",
      "source": [
        "c=input(\"Enter value of c here: \")\n",
        "c"
      ],
      "execution_count": 0,
      "outputs": []
    },
    {
      "metadata": {
        "id": "VNgfgIf2F86P",
        "colab_type": "text"
      },
      "cell_type": "markdown",
      "source": [
        "\n",
        "\n"
      ]
    },
    {
      "metadata": {
        "id": "vR3bX2APF86Q",
        "colab_type": "text"
      },
      "cell_type": "markdown",
      "source": [
        "### Importing Modules"
      ]
    },
    {
      "metadata": {
        "id": "ywNgxO_dF86T",
        "colab_type": "code",
        "colab": {}
      },
      "cell_type": "code",
      "source": [
        "import statistics"
      ],
      "execution_count": 0,
      "outputs": []
    },
    {
      "metadata": {
        "id": "G78ntSg7F86c",
        "colab_type": "code",
        "colab": {}
      },
      "cell_type": "code",
      "source": [
        "import statistics\n",
        "example_list = [5,2,5,6,1,2,6,7,2,6,3,5,5]\n",
        "print(\"Mean=\",statistics.mean(example_list))"
      ],
      "execution_count": 0,
      "outputs": []
    },
    {
      "metadata": {
        "id": "auTTzWFXF86h",
        "colab_type": "code",
        "colab": {}
      },
      "cell_type": "code",
      "source": [
        "import statistics as s\n",
        "example_list = [5,2,5,6,1,2,6,7,2,6,3,5,5]\n",
        "print(s.mean(example_list))"
      ],
      "execution_count": 0,
      "outputs": []
    },
    {
      "metadata": {
        "id": "iJRaSQpOF86l",
        "colab_type": "code",
        "colab": {}
      },
      "cell_type": "code",
      "source": [
        "from statistics import mean  #Here, we've imported the mean function only.\n",
        "example_list = [5,2,5,6,1,2,6,7,2,6,3,5,5]\n",
        "print(mean(example_list))"
      ],
      "execution_count": 0,
      "outputs": []
    },
    {
      "metadata": {
        "id": "PdM-2VKdF86r",
        "colab_type": "code",
        "colab": {}
      },
      "cell_type": "code",
      "source": [
        "#And again we can do as\n",
        "from statistics import mean as m\n",
        "example_list = [5,2,5,6,1,2,6,7,2,6,3,5,5]\n",
        "print(m(example_list))"
      ],
      "execution_count": 0,
      "outputs": []
    },
    {
      "metadata": {
        "id": "UqEKuGbjF86y",
        "colab_type": "code",
        "colab": {}
      },
      "cell_type": "code",
      "source": [
        "from statistics import *\n",
        "example_list = [5,2,5,6,1,2,6,7,2,6,3,5,5]\n",
        "print(mean(example_list))"
      ],
      "execution_count": 0,
      "outputs": []
    },
    {
      "metadata": {
        "id": "VZFuRLHbF861",
        "colab_type": "text"
      },
      "cell_type": "markdown",
      "source": [
        "### Loops"
      ]
    },
    {
      "metadata": {
        "id": "253AmItuF863",
        "colab_type": "text"
      },
      "cell_type": "markdown",
      "source": [
        "#### While loop"
      ]
    },
    {
      "metadata": {
        "id": "MomYL2ZBF866",
        "colab_type": "code",
        "colab": {}
      },
      "cell_type": "code",
      "source": [
        "condition = 1\n",
        "while condition < 10:\n",
        "\tprint(condition)\n",
        "\tcondition += 1\n",
        "    \n",
        "while condition >=1:\n",
        "    print (condition)\n",
        "    condition -=1"
      ],
      "execution_count": 0,
      "outputs": []
    },
    {
      "metadata": {
        "id": "HhPTt4wJF86-",
        "colab_type": "text"
      },
      "cell_type": "markdown",
      "source": [
        "#### For loop"
      ]
    },
    {
      "metadata": {
        "id": "EQOChFV6F87A",
        "colab_type": "code",
        "colab": {}
      },
      "cell_type": "code",
      "source": [
        "exampleList = [1,5,6,6,2,1,5,2,1,4]\n",
        "\n",
        "for x in exampleList:\n",
        "    print(x)"
      ],
      "execution_count": 0,
      "outputs": []
    },
    {
      "metadata": {
        "id": "L6TGyARHF87H",
        "colab_type": "code",
        "colab": {}
      },
      "cell_type": "code",
      "source": [
        "for x in range(1,11):\n",
        "    print(x)"
      ],
      "execution_count": 0,
      "outputs": []
    },
    {
      "metadata": {
        "id": "LciW54RIF87N",
        "colab_type": "code",
        "colab": {}
      },
      "cell_type": "code",
      "source": [
        "cars= ['toyota','bmw','audi','porsche','maruthi']\n",
        "\n",
        "for one_car in cars:\n",
        "    print(one_car)"
      ],
      "execution_count": 0,
      "outputs": []
    },
    {
      "metadata": {
        "id": "v0FHTJaXF87U",
        "colab_type": "text"
      },
      "cell_type": "markdown",
      "source": [
        "\n",
        "### Conditional Statements"
      ]
    },
    {
      "metadata": {
        "id": "hdoRejPjF87W",
        "colab_type": "code",
        "colab": {}
      },
      "cell_type": "code",
      "source": [
        "x = 5\n",
        "y = 10\n",
        "z = 22\n",
        "\n",
        "if x > y:\n",
        "    print('x is greater than y')\n",
        "elif x < z:\n",
        "    print('x is less than z')\n",
        "else:\n",
        "    print('if and elif never ran...')"
      ],
      "execution_count": 0,
      "outputs": []
    },
    {
      "metadata": {
        "id": "Yk4A_lNtF87c",
        "colab_type": "text"
      },
      "cell_type": "markdown",
      "source": [
        "\n",
        "### User defined Functions\n"
      ]
    },
    {
      "metadata": {
        "id": "LEOP-qtQF87f",
        "colab_type": "code",
        "colab": {}
      },
      "cell_type": "code",
      "source": [
        "def example():\n",
        "    print('this code will run')\n",
        "    z = 3 + 9\n",
        "    print(z)\n",
        "\n",
        "def simple_addition(num1,num2):\n",
        "    answer = num1 + num2\n",
        "    print('num1 is', num1)\n",
        "    print(answer)\n",
        "    \n",
        "example()"
      ],
      "execution_count": 0,
      "outputs": []
    },
    {
      "metadata": {
        "id": "pdYHtOCUF87m",
        "colab_type": "code",
        "colab": {}
      },
      "cell_type": "code",
      "source": [
        "simple_addition(123,321)"
      ],
      "execution_count": 0,
      "outputs": []
    }
  ]
}